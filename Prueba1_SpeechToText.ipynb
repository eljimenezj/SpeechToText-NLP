{
  "nbformat": 4,
  "nbformat_minor": 0,
  "metadata": {
    "colab": {
      "name": "Prueba1_SpeechToText.ipynb",
      "provenance": [],
      "collapsed_sections": [],
      "include_colab_link": true
    },
    "kernelspec": {
      "display_name": "Python 3",
      "language": "python",
      "name": "python3"
    },
    "language_info": {
      "codemirror_mode": {
        "name": "ipython",
        "version": 3
      },
      "file_extension": ".py",
      "mimetype": "text/x-python",
      "name": "python",
      "nbconvert_exporter": "python",
      "pygments_lexer": "ipython3",
      "version": "3.7.1"
    }
  },
  "cells": [
    {
      "cell_type": "markdown",
      "metadata": {
        "id": "view-in-github",
        "colab_type": "text"
      },
      "source": [
        "<a href=\"https://colab.research.google.com/github/eljimenezj/SpeechToText-NLP/blob/master/Prueba1_SpeechToText.ipynb\" target=\"_parent\"><img src=\"https://colab.research.google.com/assets/colab-badge.svg\" alt=\"Open In Colab\"/></a>"
      ]
    },
    {
      "cell_type": "markdown",
      "metadata": {
        "id": "wOPP-5b-LN3_",
        "colab_type": "text"
      },
      "source": [
        "# Prueba Speech to text - Easy Speech-to-Text with Python\n",
        "Link del  tutorial: https://towardsdatascience.com/easy-speech-to-text-with-python-3df0d973b426"
      ]
    },
    {
      "cell_type": "markdown",
      "metadata": {
        "id": "Rc7CVzAhLN6n",
        "colab_type": "text"
      },
      "source": [
        "La API de reconocimiento de voz admite varias API, en este blog utilicé la API de reconocimiento de voz de Google. Para más detalles, por favor verifique esto [https://pypi.org/project/SpeechRecognition/]. Ayuda a traducir para convertir el discurso en texto."
      ]
    },
    {
      "cell_type": "markdown",
      "metadata": {
        "id": "gbw2GnrPLHQB",
        "colab_type": "text"
      },
      "source": [
        "El proceso para convertir audio en texto es el siguiente:\n",
        "1. Se tiene el archivo en audio\n",
        "2. Se convierte el sonido en señales electricas\n",
        "3. Se convierte la señal en datos digitales con un convertidor analógico de datos\n",
        "4. Una vez digitalizado, se utiliza un modelo para transcribir el audio en texto. Por ejemplo:\n",
        "    * Hidden Markov Model (HMM)\n",
        "    * Deep neural network "
      ]
    },
    {
      "cell_type": "code",
      "metadata": {
        "colab_type": "code",
        "id": "W0qdqsSsOONn",
        "outputId": "1b158055-dd0d-45b1-edbe-0aa02cc59625",
        "colab": {
          "base_uri": "https://localhost:8080/",
          "height": 128
        }
      },
      "source": [
        "!pip install SpeechRecognition"
      ],
      "execution_count": 0,
      "outputs": [
        {
          "output_type": "stream",
          "text": [
            "Collecting SpeechRecognition\n",
            "  Downloading https://files.pythonhosted.org/packages/26/e1/7f5678cd94ec1234269d23756dbdaa4c8cfaed973412f88ae8adf7893a50/SpeechRecognition-3.8.1-py2.py3-none-any.whl (32.8MB)\n",
            "Installing collected packages: SpeechRecognition\n",
            "Successfully installed SpeechRecognition-3.8.1\n"
          ],
          "name": "stdout"
        }
      ]
    },
    {
      "cell_type": "markdown",
      "metadata": {
        "colab_type": "text",
        "id": "eloyvB1_VzBZ"
      },
      "source": [
        "# 1. Convertir audio en texto\n",
        "\n",
        "\n",
        "1. Importar biblioteca de reconocimiento de voz\n",
        "2. Inicializando la clase reconocedora para reconocer el discurso. Estamos utilizando el reconocimiento de voz de google.\n",
        "3. Admite archivos de audio mediante reconocimiento de voz: wav, AIFF, AIFF-C, FLAC. Usé el archivo 'wav' en este ejemplo\n",
        "4. He usado audios de la siguiente pagina web con formatos *wav*:  https://www.pacdv.com/sounds/voices-2.html\n",
        "5. Por defecto, el reconocedor de Google lee inglés. Es compatible con diferentes idiomas, para más detalles, consulte esta documentación."
      ]
    },
    {
      "cell_type": "code",
      "metadata": {
        "colab_type": "code",
        "id": "ohfzyc9jOQHb",
        "colab": {}
      },
      "source": [
        "#import library\n",
        "import speech_recognition as sr\n",
        "\n",
        "# Initialize recognizer class (for recognizing the speech)\n",
        "r = sr.Recognizer()"
      ],
      "execution_count": 0,
      "outputs": []
    },
    {
      "cell_type": "code",
      "metadata": {
        "colab_type": "code",
        "id": "FSansDd3OQX6",
        "outputId": "786e07e0-34af-431b-84c4-92cf0d6f79a1",
        "colab": {
          "base_uri": "https://localhost:8080/",
          "height": 54
        }
      },
      "source": [
        "# PRUEBA ARCHIVO 1 \n",
        "\n",
        "# Reading Audio file as source\n",
        "# listening the audio file and store in audio_text variable\n",
        "\n",
        "with sr.AudioFile('can-you-keep-a-secret.wav') as source:\n",
        "    \n",
        "    audio_text = r.listen(source)\n",
        "    \n",
        "# recoginize_() method will throw a request error if the API is unreachable, hence using exception handling\n",
        "    try:\n",
        "        \n",
        "        # using google speech recognition\n",
        "        text = r.recognize_google(audio_text)\n",
        "        print('Converting audio transcripts into text ...')\n",
        "        print(text)\n",
        "     \n",
        "    except:\n",
        "         print('Sorry.. run again...')"
      ],
      "execution_count": 0,
      "outputs": [
        {
          "output_type": "stream",
          "text": [
            "Converting audio transcripts into text ...\n",
            "can you keep a secret\n"
          ],
          "name": "stdout"
        }
      ]
    },
    {
      "cell_type": "code",
      "metadata": {
        "colab_type": "code",
        "id": "E3yvQQSHUTwj",
        "outputId": "941f0cff-c617-4d05-d9c8-a10051138a5e",
        "colab": {
          "base_uri": "https://localhost:8080/",
          "height": 35
        }
      },
      "source": [
        "# PRUEBA ARCHIVO 2\n",
        "\n",
        "# Reading Audio file as source\n",
        "# listening the audio file and store in audio_text variable\n",
        "\n",
        "with sr.AudioFile('have-a-good-weekend.wav') as source:\n",
        "    \n",
        "    audio_text = r.listen(source)\n",
        "    \n",
        "# recoginize_() method will throw a request error if the API is unreachable, hence using exception handling\n",
        "    try:\n",
        "        \n",
        "        # using google speech recognition\n",
        "        text = r.recognize_google(audio_text)\n",
        "        print('Converting audio transcripts into text ...')\n",
        "        print(text)\n",
        "     \n",
        "    except:\n",
        "         print('Sorry.. run again...')"
      ],
      "execution_count": 0,
      "outputs": [
        {
          "output_type": "stream",
          "text": [
            "Sorry.. run again...\n"
          ],
          "name": "stdout"
        }
      ]
    },
    {
      "cell_type": "code",
      "metadata": {
        "colab_type": "code",
        "id": "w_PUBiL_Udvo",
        "outputId": "f37801c2-e575-44ce-883b-a917c8faab98",
        "colab": {
          "base_uri": "https://localhost:8080/",
          "height": 54
        }
      },
      "source": [
        "# PRUEBA ARCHIVO 3\n",
        "\n",
        "# Reading Audio file as source\n",
        "# listening the audio file and store in audio_text variable\n",
        "\n",
        "with sr.AudioFile('i-wanna-discuss.wav') as source:\n",
        "    \n",
        "    audio_text = r.listen(source)\n",
        "    \n",
        "# recoginize_() method will throw a request error if the API is unreachable, hence using exception handling\n",
        "    try:\n",
        "        \n",
        "        # using google speech recognition\n",
        "        text = r.recognize_google(audio_text)\n",
        "        print('Converting audio transcripts into text ...')\n",
        "        print(text)\n",
        "     \n",
        "    except:\n",
        "         print('Sorry.. run again...')"
      ],
      "execution_count": 0,
      "outputs": [
        {
          "output_type": "stream",
          "text": [
            "Converting audio transcripts into text ...\n",
            "I want to discuss all this Behavior\n"
          ],
          "name": "stdout"
        }
      ]
    },
    {
      "cell_type": "code",
      "metadata": {
        "colab_type": "code",
        "id": "Z8VsVRvpVKHo",
        "outputId": "bb2c7897-e985-41d8-d24f-08c1139556bd",
        "colab": {
          "base_uri": "https://localhost:8080/",
          "height": 35
        }
      },
      "source": [
        "# Añadimos lenguaje español colombiano \n",
        "text = r.recognize_google(audio_text, language = \"es-CO\") # Español Colombiano\n",
        "text"
      ],
      "execution_count": 0,
      "outputs": [
        {
          "output_type": "execute_result",
          "data": {
            "text/plain": [
              "'the keeper Secret'"
            ]
          },
          "metadata": {
            "tags": []
          },
          "execution_count": 19
        }
      ]
    },
    {
      "cell_type": "markdown",
      "metadata": {
        "colab_type": "text",
        "id": "g-gSFkheV4Lv"
      },
      "source": [
        "# 2. Discurso de micrófono en texto\n",
        "\n",
        "Pasos:\n",
        "Necesitamos instalar la biblioteca PyAudio que solía recibir entrada y salida de audio a través del micrófono y el altavoz. Básicamente, ayuda a obtener nuestra voz a través del micrófono.\n"
      ]
    },
    {
      "cell_type": "markdown",
      "metadata": {
        "colab_type": "text",
        "id": "s2-U3p-hYoWu"
      },
      "source": [
        "Encontré la solucion a la instalacion de !pip install PyAudio en colab en:\n",
        "https://stackoverflow.com/questions/56250269/failed-installing-pyaudio-on-google-colab-with-error-failed-building-wheel-for"
      ]
    },
    {
      "cell_type": "code",
      "metadata": {
        "id": "EWcjAZHgLFrX",
        "colab_type": "code",
        "colab": {},
        "outputId": "a3ae272d-3730-4846-8d83-5f1d5e1a8033"
      },
      "source": [
        "!pip install pipwin\n",
        "!pipwin install pyaudio\n"
      ],
      "execution_count": 0,
      "outputs": [
        {
          "output_type": "stream",
          "text": [
            "Collecting pipwin\n",
            "  Downloading https://files.pythonhosted.org/packages/08/0f/a7df1770d2dcf99898aee562d6ce866e5dc78a5ccbf4ff25231ece4c99e8/pipwin-0.5.0-py2.py3-none-any.whl\n",
            "Collecting pyprind (from pipwin)\n",
            "  Downloading https://files.pythonhosted.org/packages/1e/30/e76fb0c45da8aef49ea8d2a90d4e7a6877b45894c25f12fb961f009a891e/PyPrind-2.11.2-py3-none-any.whl\n",
            "Collecting pySmartDL>=1.3.1; python_version >= \"3.4\" (from pipwin)\n",
            "  Downloading https://files.pythonhosted.org/packages/5c/be/ea485e61e1e5c552fd1fdf90dc818e30661797085ca7df6483ca62923f3c/pySmartDL-1.3.3-py3-none-any.whl\n",
            "Collecting docopt (from pipwin)\n",
            "  Downloading https://files.pythonhosted.org/packages/a2/55/8f8cab2afd404cf578136ef2cc5dfb50baa1761b68c9da1fb1e4eed343c9/docopt-0.6.2.tar.gz\n",
            "Requirement already satisfied: requests in c:\\programdata\\anaconda2\\lib\\site-packages (from pipwin) (2.21.0)\n",
            "Requirement already satisfied: six in c:\\programdata\\anaconda2\\lib\\site-packages (from pipwin) (1.12.0)\n",
            "Collecting beautifulsoup4>=4.9.0 (from pipwin)\n",
            "  Downloading https://files.pythonhosted.org/packages/66/25/ff030e2437265616a1e9b25ccc864e0371a0bc3adb7c5a404fd661c6f4f6/beautifulsoup4-4.9.1-py3-none-any.whl (115kB)\n",
            "Collecting js2py (from pipwin)\n",
            "  Downloading https://files.pythonhosted.org/packages/f4/6a/0385641ad1b52aae5c63820277a10e500c19e40fc4df5287f161aa287020/Js2Py-0.70-py3-none-any.whl (605kB)\n",
            "Requirement already satisfied: packaging in c:\\programdata\\anaconda2\\lib\\site-packages (from pipwin) (18.0)\n",
            "Requirement already satisfied: certifi>=2017.4.17 in c:\\programdata\\anaconda2\\lib\\site-packages (from requests->pipwin) (2018.11.29)\n",
            "Requirement already satisfied: idna<2.9,>=2.5 in c:\\programdata\\anaconda2\\lib\\site-packages (from requests->pipwin) (2.8)\n",
            "Requirement already satisfied: chardet<3.1.0,>=3.0.2 in c:\\programdata\\anaconda2\\lib\\site-packages (from requests->pipwin) (3.0.4)\n",
            "Requirement already satisfied: urllib3<1.25,>=1.21.1 in c:\\programdata\\anaconda2\\lib\\site-packages (from requests->pipwin) (1.24.1)\n",
            "Collecting soupsieve>1.2 (from beautifulsoup4>=4.9.0->pipwin)\n",
            "  Downloading https://files.pythonhosted.org/packages/6f/8f/457f4a5390eeae1cc3aeab89deb7724c965be841ffca6cfca9197482e470/soupsieve-2.0.1-py3-none-any.whl\n",
            "Collecting pyjsparser>=2.5.1 (from js2py->pipwin)\n",
            "  Downloading https://files.pythonhosted.org/packages/48/ef/c72abcfa2c6accd03e7c89c400790fc3d908c5804d50a7c4e9ceabd74d23/pyjsparser-2.7.1.tar.gz\n",
            "Collecting tzlocal>=1.2 (from js2py->pipwin)\n",
            "  Downloading https://files.pythonhosted.org/packages/5d/94/d47b0fd5988e6b7059de05720a646a2930920fff247a826f61674d436ba4/tzlocal-2.1-py2.py3-none-any.whl\n",
            "Requirement already satisfied: pyparsing>=2.0.2 in c:\\programdata\\anaconda2\\lib\\site-packages (from packaging->pipwin) (2.3.0)\n",
            "Requirement already satisfied: pytz in c:\\programdata\\anaconda2\\lib\\site-packages (from tzlocal>=1.2->js2py->pipwin) (2018.7)\n",
            "Building wheels for collected packages: docopt, pyjsparser\n",
            "  Running setup.py bdist_wheel for docopt: started\n",
            "  Running setup.py bdist_wheel for docopt: finished with status 'done'\n",
            "  Stored in directory: C:\\Users\\Administrador\\AppData\\Local\\pip\\Cache\\wheels\\9b\\04\\dd\\7daf4150b6d9b12949298737de9431a324d4b797ffd63f526e\n",
            "  Running setup.py bdist_wheel for pyjsparser: started\n",
            "  Running setup.py bdist_wheel for pyjsparser: finished with status 'done'\n",
            "  Stored in directory: C:\\Users\\Administrador\\AppData\\Local\\pip\\Cache\\wheels\\a2\\73\\e6\\3e433f3fd78257c3f971baf8cc9001cc0c4797268c61751e89\n",
            "Successfully built docopt pyjsparser\n",
            "Installing collected packages: pyprind, pySmartDL, docopt, soupsieve, beautifulsoup4, pyjsparser, tzlocal, js2py, pipwin\n",
            "  Found existing installation: beautifulsoup4 4.6.3\n",
            "    Uninstalling beautifulsoup4-4.6.3:\n",
            "      Successfully uninstalled beautifulsoup4-4.6.3\n",
            "Successfully installed beautifulsoup4-4.9.1 docopt-0.6.2 js2py-0.70 pipwin-0.5.0 pySmartDL-1.3.3 pyjsparser-2.7.1 pyprind-2.11.2 soupsieve-2.0.1 tzlocal-2.1\n",
            "Building cache. Hang on . . .\n",
            "Done\n",
            "Package `pyaudio` found in cache\n",
            "Downloading package . . .\n",
            "https://download.lfd.uci.edu/pythonlibs/w3jqiv8s/PyAudio-0.2.11-cp37-cp37m-win_amd64.whl\n",
            "PyAudio-0.2.11-cp37-cp37m-win_amd64.whl\n",
            "[*] 0 bytes / 109 kB @ 0 bytes/s [------------------] [0.0%, 0s left]   [*] 0 bytes / 109 kB @ 0 bytes/s [------------------] [0.0%, 0s left]   [*] 0 bytes / 109 kB @ 0 bytes/s [------------------] [0.0%, 0s left]   [*] 0 bytes / 109 kB @ 0 bytes/s [------------------] [0.0%, 0s left]   [*] 0 bytes / 109 kB @ 0 bytes/s [------------------] [0.0%, 0s left]   [*] 0 bytes / 109 kB @ 0 bytes/s [------------------] [0.0%, 0s left]   [*] 0 bytes / 109 kB @ 0 bytes/s [------------------] [0.0%, 0s left]   [*] 8 kB / 109 kB @ 10 kB/s [#-----------------] [7.4%, 0s left]  [*] 24 kB / 109 kB @ 27 kB/s [###---------------] [22.1%, 0s left]  [*] 56 kB / 109 kB @ 56 kB/s [#########---------] [51.6%, 0s left]  Processing c:\\users\\administrador\\pipwin\\pyaudio-0.2.11-cp37-cp37m-win_amd64.whl\n",
            "Installing collected packages: PyAudio\n",
            "Successfully installed PyAudio-0.2.11\n",
            "[*] 109 kB / 109 kB @ 56 kB/s [##################] [100%, 0s left]    \n"
          ],
          "name": "stdout"
        }
      ]
    },
    {
      "cell_type": "code",
      "metadata": {
        "colab_type": "code",
        "id": "UWS5gRncV3Yg",
        "scrolled": true,
        "colab": {}
      },
      "source": [
        "#!pip install PyAudio"
      ],
      "execution_count": 0,
      "outputs": []
    },
    {
      "cell_type": "code",
      "metadata": {
        "colab_type": "code",
        "id": "hYe7YpcGWpw_",
        "outputId": "d6bd1972-6b47-45d8-c239-ec7f10083aaf",
        "colab": {
          "base_uri": "https://localhost:8080/",
          "height": 395
        }
      },
      "source": [
        "#import library\n",
        "\n",
        "import speech_recognition as sr\n",
        "\n",
        "# Initialize recognizer class (for recognizing the speech)\n",
        "\n",
        "r = sr.Recognizer()\n",
        "\n",
        "# Reading Microphone as source\n",
        "# listening the speech and store in audio_text variable\n",
        "\n",
        "with sr.Microphone() as source:\n",
        "    print(\"Talk\")\n",
        "    r.adjust_for_ambient_noise(source, duration=1) \n",
        "    audio_text = r.listen(source)\n",
        "    print(\"Time over, thanks\")\n",
        "# recoginize_() method will throw a request error if the API is unreachable, hence using exception handling\n",
        "    \n",
        "    try:\n",
        "        # using google speech recognition\n",
        "        print(\"Text: \"+r.recognize_google(audio_text))\n",
        "    except:\n",
        "         print(\"Sorry, I did not get that\")"
      ],
      "execution_count": 0,
      "outputs": [
        {
          "output_type": "stream",
          "text": [
            "Talk\n",
            "Time over, thanks\n",
            "Text: hello my name is Edgar Jimenez\n"
          ],
          "name": "stdout"
        }
      ]
    },
    {
      "cell_type": "code",
      "metadata": {
        "id": "sgzDnqukLFre",
        "colab_type": "code",
        "colab": {},
        "outputId": "f1a8fb25-578a-42ff-8651-61afc097b18d"
      },
      "source": [
        " #import library\n",
        "\n",
        "import speech_recognition as sr\n",
        "\n",
        "# Initialize recognizer class (for recognizing the speech)\n",
        "\n",
        "r = sr.Recognizer()\n",
        "\n",
        "# Reading Microphone as source\n",
        "# listening the speech and store in audio_text variable\n",
        "\n",
        "with sr.Microphone() as source:\n",
        "    print(\"Talk\")\n",
        "    r.adjust_for_ambient_noise(source, duration=1) \n",
        "    audio_text = r.listen(source)\n",
        "    print(\"Time over, thanks\")\n",
        "# recoginize_() method will throw a request error if the API is unreachable, hence using exception handling\n",
        "    \n",
        "    try:\n",
        "        # using google speech recognition\n",
        "        print(\"Text: \"+r.recognize_google(audio_text, language = \"es-CO\"))\n",
        "    except:\n",
        "         print(\"Sorry, I did not get that\")\n",
        "    "
      ],
      "execution_count": 0,
      "outputs": [
        {
          "output_type": "stream",
          "text": [
            "Talk\n",
            "Time over, thanks\n",
            "Text: Esto es una prueba con el profesor Edwin y Edgar Jiménez\n"
          ],
          "name": "stdout"
        }
      ]
    }
  ]
}